{
 "cells": [
  {
   "cell_type": "markdown",
   "metadata": {},
   "source": [
    "# RxJava\n",
    "## Intro - \n",
    "- RxJava is a specific implementation of reactive programming for Java and Android that is influenced by functional programming.\n",
    "- Favors functional composition, avoidance of global state and side-effects and using streams to program asynchronously and event based\n",
    "- **Reactive programming** is related to reacting to changes and can be done imperatively or functionally like callbacks\n",
    "- RxJava is not functional reactive programming\n",
    "- All programs ultimately end up being reactive when it hits harware\n",
    "- Recommended books [Java Concurrency in Practice](https://www.amazon.com/Java-Concurrency-Practice-Brian-Goetz/dp/0321349601), [Concurrent Programming](https://www.amazon.com/Concurrent-Programming-Java%C2%99-Principles-Pattern/dp/0201310090) and **Mechanical sympathy\n",
    "- Reactive programming is needed when - \n",
    " - Responding to user events\n",
    " - Responding to IO events\n",
    " - Handling events or data coming from a producer one does not have control over\n",
    " \n",
    "## How it works - \n",
    "### Push vs Pull - \n",
    "- Being reactive means supporting push so that `Observable` and `Observer` support the events being pushed at it\n",
    "- The `Observable` and `Observer` are connected via subscription\n",
    "- The `Observable` represents a stream of data and can be subscribed to by the `Observer`    \n",
    "- Once `Observer` subscribes, three types of events can be pushed to it\n",
    " - Data via `onNext()` function\n",
    " - Error view `onError`\n",
    " - Stream completion via `onComplete()`    \n"
   ]
  },
  {
   "cell_type": "markdown",
   "metadata": {},
   "source": [
    "`interface Observer<T> { \n",
    "    void onNext(T t);\n",
    "    void onError(Throwable t); \n",
    "    void onComplete();\n",
    "}`"
   ]
  },
  {
   "cell_type": "markdown",
   "metadata": {},
   "source": [
    "- The `onNext()` method can be called as many time as required\n",
    "- `onError()` and `onComplete()` are called on termination\n",
    "- The `Observable` stream is finished with a terminal call and no further events can be sent over it"
   ]
  },
  {
   "cell_type": "markdown",
   "metadata": {},
   "source": [
    "- To permit interactive pull there is another signature  "
   ]
  },
  {
   "cell_type": "markdown",
   "metadata": {},
   "source": [
    "`interface Producer {\n",
    "    void request(long n);\n",
    "}`"
   ]
  },
  {
   "cell_type": "markdown",
   "metadata": {},
   "source": [
    "- This is used by a more advanced `Observer` called `Subscribe`  "
   ]
  },
  {
   "cell_type": "markdown",
   "metadata": {},
   "source": [
    "`interface Subscriber<T> implements Observer<T>, Subscription { \n",
    "    void onNext(T t);\n",
    "    void onError(Throwable t);\n",
    "    void onComplete();\n",
    "    void unsubscribe();\n",
    "    void setProducer(Producer p);\n",
    "}`"
   ]
  },
  {
   "cell_type": "markdown",
   "metadata": {},
   "source": [
    "- `unsubscribe()` is to allow a subscriber to unsubscribe when required\n",
    "- `setProducer` forms a bidirectional communication channel between producer and the consumer\n",
    "### Async vs Sync - \n",
    "- RxJava never adds concurrency unless asked to\n",
    "- A synchronous `Observable` would be subscribed to, emit data on the subscriber thread and completes"
   ]
  },
  {
   "cell_type": "code",
   "execution_count": 12,
   "metadata": {},
   "outputs": [],
   "source": [
    "// Adding the jars required to obtain the rxJava dependencies\n",
    "%classpath add jar ./rxjava-2.2.0-SNAPSHOT.jar\n",
    "%classpath add jar ./reactive-streams-1.0.2.jar"
   ]
  },
  {
   "cell_type": "code",
   "execution_count": 15,
   "metadata": {},
   "outputs": [
    {
     "name": "stdout",
     "output_type": "stream",
     "text": [
      "Hello world!\n"
     ]
    },
    {
     "data": {
      "text/plain": [
       "null"
      ]
     },
     "execution_count": 15,
     "metadata": {},
     "output_type": "execute_result"
    }
   ],
   "source": [
    "import io.reactivex.*;\n",
    "\n",
    "Observable.create(s -> {\n",
    "    s.onNext(\"Hello world!\");\n",
    "    s.onComplete();\n",
    "}).subscribe(hello -> System.out.println(hello));"
   ]
  },
  {
   "cell_type": "markdown",
   "metadata": {},
   "source": [
    "- This is a completely synchronous example of `Observable.create()`. The I/O is blocking the asynchronicity of this `Observable`. The I/O operations should be done in a separate thread.\n",
    "- Here the asynchronous scheduling is actually making the whole 'Hello World' program slower.\n",
    "- The RxJava `Observable` is async vs sync agnostic so as to let it be incumbent upon the impementation to determine the source of concurrency and can be decided whether it will be useful.\n",
    "- There are also some applications where synchronous behaviour is better than asynchronous behaviour. For example - \n",
    " - In-memory data access is very fast and should not be bogged down by adding the scheduling cost to it. The data fetch from in memory can be done synchronously. If disk access then that can be done concurrently.\n",
    " - Another case is stream composition and transformation via operators like `map()`, `filter()` etc"
   ]
  },
  {
   "cell_type": "code",
   "execution_count": 16,
   "metadata": {},
   "outputs": [
    {
     "name": "stdout",
     "output_type": "stream",
     "text": [
      "Number 1\n",
      "Number 2\n",
      "Number 3\n"
     ]
    },
    {
     "data": {
      "text/plain": [
       "null"
      ]
     },
     "execution_count": 16,
     "metadata": {},
     "output_type": "execute_result"
    }
   ],
   "source": [
    "import io.reactivex.Observable;\n",
    "\n",
    "// If map was asynchronous, there would be separate threads for string concatenation and that would be wasteful and the behaviour would become very non-deterministic\n",
    "Observable<Integer> o = Observable.create(s -> {\n",
    "    s.onNext(1);\n",
    "    s.onNext(2);\n",
    "    s.onNext(3);\n",
    "});\n",
    "o.map(i -> \"Number \" + i)\n",
    "    .subscribe(s -> System.out.println(s));"
   ]
  },
  {
   "cell_type": "markdown",
   "metadata": {},
   "source": [
    "### Concurrency and Parellelism - \n",
    "- Parallelism is simultaneous execution of tasks on differenct CPUs or machines.\n",
    "- Concurrency is composition of interleaving of multiple tasks. Multiple thread execution on a single CPU is excuting concurrently but not parallely\n",
    "- Parallel execution is always concurrent. Parallelism is a specific form of concurrency. \n",
    "- The RxJava streams like `onNext()`, `onComplete()` etc are never concurrent but are always serialized and thread safe\n",
    "- The emission of events can happen on different threads but the emission must happen serially."
   ]
  },
  {
   "cell_type": "markdown",
   "metadata": {},
   "source": [
    "`// DO NOT DO THIS\n",
    "Observable.create(s -> {\n",
    "// Thread A\n",
    "new Thread(() -> {\n",
    "s.onNext(\"one\");\n",
    "s.onNext(\"two\");\n",
    "}).start();\n",
    "// Thread B\n",
    "new Thread(() -> {\n",
    "s.onNext(\"three\");\n",
    "s.onNext(\"four\");\n",
    "}).start();\n",
    "// ignoring need to emit s.onCompleted() due to race of threads\n",
    "});\n",
    "// DO NOT DO THIS`"
   ]
  },
  {
   "cell_type": "markdown",
   "metadata": {},
   "source": [
    "- `onNext()` is not allowed to be invoked concurrently because - \n",
    " - `onNext()` is supposed to be used by the programmer. If it is invoked concurrently then every invocation needs to handle the concurrent case\n",
    " - Some operations like `reduce()` and `scan()` are not possible concurrently\n",
    " - Performance overhead because all observers and operators have to be thread safe\n",
    " - Fine grained parallelism is undesirable and slower. It is much faster to execute serially on a single CPU to gain advantage of the CPU optimizations already in place."
   ]
  },
  {
   "cell_type": "markdown",
   "metadata": {},
   "source": [
    "### Lazy vs Eager - \n",
    "- The `Observer` type is lazy and does nothing until it is subscribed to as opposed to `Future` which is eager and starts executing as soon as it is created.\n",
    "- This also means that the observable instances can be reused"
   ]
  },
  {
   "cell_type": "markdown",
   "metadata": {},
   "source": [
    "## Duality - \n",
    "- `Observable` is the dual of `Iterable`. That means all iterable properties are there using observable just with reverse flow of data. It is push instead of pull.\n",
    "- So the data instead of being pulled out using `next()` is pushed by the producer using `onNext()`\n",
    "- This just means that the same programming model can be applied to both"
   ]
  },
  {
   "cell_type": "markdown",
   "metadata": {},
   "source": [
    "## Cardinality - \n",
    "- `Observable` supports asynchronously pushing multiple values."
   ]
  },
  {
   "cell_type": "markdown",
   "metadata": {},
   "source": [
    "## Reactive Extensions - \n",
    "### rx.Observable - \n",
    "- Represents a flowing sequence of values\n",
    "- It is a stream of events because the events appear over a wide time range\n",
    "- `Observable` is inherently push based and decides when it is going to push values to it's subscriber by itself\n",
    "- This is similar to the publish-subscribe pattern\n",
    "- `Observable<T>` can produce three types of events - \n",
    " - Values of type T\n",
    " - Completion event\n",
    " - Error event\n",
    "- The Subscriber structure is expressed as - `onNext * (onComplete | onError)?`\n",
    "\n",
    "### Subscribing to notifications from observables - \n",
    "- The `Observable` does not emit anything until it is subscribed to\n",
    "- Use `subscribe()` family of methods to subscribe to this observable\n",
    "- Events can be emitted from multiple threads but the callback will always be invoked on the same thread\n",
    "- The second argument is the callback invoked when an error is thrown and it is guaranteed that no further events will be produced\n",
    "- The third argument is the callback invoked when the stream is finally completed"
   ]
  },
  {
   "cell_type": "markdown",
   "metadata": {},
   "source": [
    "`tweets.subscribe( \n",
    "    (Tweet tweet) -> { System.out.println(tweet); }, \n",
    "    (Throwable t) -> { t.printStackTrace(); }, \n",
    "    () -> {this.noMore();} \n",
    ");`"
   ]
  },
  {
   "cell_type": "code",
   "execution_count": null,
   "metadata": {},
   "outputs": [],
   "source": []
  }
 ],
 "metadata": {
  "kernelspec": {
   "display_name": "Java",
   "language": "java",
   "name": "java"
  },
  "language_info": {
   "codemirror_mode": "text/x-java",
   "file_extension": ".java",
   "mimetype": "",
   "name": "Java",
   "nbconverter_exporter": "",
   "version": "1.8.0_144"
  },
  "toc": {
   "base_numbering": 1,
   "nav_menu": {},
   "number_sections": false,
   "sideBar": false,
   "skip_h1_title": false,
   "title_cell": "Table of Contents",
   "title_sidebar": "Contents",
   "toc_cell": false,
   "toc_position": {},
   "toc_section_display": false,
   "toc_window_display": false
  }
 },
 "nbformat": 4,
 "nbformat_minor": 2
}
