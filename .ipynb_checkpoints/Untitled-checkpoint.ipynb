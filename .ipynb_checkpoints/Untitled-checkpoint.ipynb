{
 "cells": [
  {
   "cell_type": "markdown",
   "metadata": {},
   "source": [
    "# RxJava\n",
    "## Intro - \n",
    "- RxJava is a specific implementation of reactive programming for Java and Android that is influenced by functional programming.\n",
    "- Favors functional composition, avoidance of global state and side-effects and using streams to program asynchronously and event based\n",
    "- **Reactive programming** is related to reacting to changes and can be done imperatively or functionally like callbacks\n",
    "- RxJava is not functional reactive programming\n",
    "- All programs ultimately end up being reactive when it hits harware\n",
    "- Recommended books [Java Concurrency in Practice](https://www.amazon.com/Java-Concurrency-Practice-Brian-Goetz/dp/0321349601), [Concurrent Programming](https://www.amazon.com/Concurrent-Programming-Java%C2%99-Principles-Pattern/dp/0201310090) and **Mechanical sympathy\n",
    "- Reactive programming is needed when - \n",
    " - Responding to user events\n",
    " - Responding to IO events\n",
    " - Handling events or data coming from a producer one does not have control over\n",
    " \n",
    "## How it works - \n",
    "### Push vs Pull - \n",
    "- Being reactive means supporting push so that `Observable` and `Observer` support the events being pushed at it\n",
    "- The `Observable` and `Observer` are connected via subscription\n",
    "- The `Observable` represents a stream of data and can be subscribed to by the `Observer`    \n",
    "- Once `Observer` subscribes, three types of events can be pushed to it\n",
    " - Data via `onNext()` function\n",
    " - Error view `onError`\n",
    " - Stream completion via `onComplete()`    \n"
   ]
  },
  {
   "cell_type": "markdown",
   "metadata": {},
   "source": [
    "`interface Observer<T> { \n",
    "    void onNext(T t);\n",
    "    void onError(Throwable t); \n",
    "    void onComplete();\n",
    "}`"
   ]
  },
  {
   "cell_type": "markdown",
   "metadata": {},
   "source": [
    "- The `onNext()` method can be called as many time as required\n",
    "- `onError()` and `onComplete()` are called on termination\n",
    "- The `Observable` stream is finished with a terminal call and no further events can be sent over it"
   ]
  },
  {
   "cell_type": "markdown",
   "metadata": {},
   "source": [
    "- To permit interactive pull there is another signature  "
   ]
  },
  {
   "cell_type": "markdown",
   "metadata": {},
   "source": [
    "`interface Producer {\n",
    "    void request(long n);\n",
    "}`"
   ]
  },
  {
   "cell_type": "markdown",
   "metadata": {},
   "source": [
    "- This is used by a more advanced `Observer` called `Subscribe`  "
   ]
  },
  {
   "cell_type": "markdown",
   "metadata": {},
   "source": [
    "`interface Subscriber<T> implements Observer<T>, Subscription { \n",
    "    void onNext(T t);\n",
    "    void onError(Throwable t);\n",
    "    void onComplete();\n",
    "    void unsubscribe();\n",
    "    void setProducer(Producer p);\n",
    "}`"
   ]
  },
  {
   "cell_type": "markdown",
   "metadata": {},
   "source": [
    "- `unsubscribe()` is to allow a subscriber to unsubscribe when required\n",
    "- `setProducer` forms a bidirectional communication channel between producer and the consumer\n",
    "### Async vs Sync - \n",
    "- RxJava never adds concurrency unless asked to\n",
    "- A synchronous `Observable` would be subscribed to, emit data on the subscriber thread and completes"
   ]
  },
  {
   "cell_type": "code",
   "execution_count": 1,
   "metadata": {},
   "outputs": [
    {
     "data": {
      "application/vnd.jupyter.widget-view+json": {
       "model_id": "b933db51-f7aa-4161-ab41-b0d830e799c4",
       "version_major": 2,
       "version_minor": 0
      },
      "method": "display_data"
     },
     "metadata": {},
     "output_type": "display_data"
    },
    {
     "data": {
      "application/vnd.jupyter.widget-view+json": {
       "model_id": "fb6f314c-abef-47a0-ac3f-3894ebe9a434",
       "version_major": 2,
       "version_minor": 0
      },
      "method": "display_data"
     },
     "metadata": {},
     "output_type": "display_data"
    }
   ],
   "source": [
    "// Adding the jars required to obtain the rxJava dependencies\n",
    "%classpath add jar ./rxjava-2.2.0-SNAPSHOT.jar\n",
    "%classpath add jar ./reactive-streams-1.0.2.jar"
   ]
  },
  {
   "cell_type": "code",
   "execution_count": 15,
   "metadata": {},
   "outputs": [
    {
     "name": "stdout",
     "output_type": "stream",
     "text": [
      "Hello world!\n"
     ]
    },
    {
     "data": {
      "text/plain": [
       "null"
      ]
     },
     "execution_count": 15,
     "metadata": {},
     "output_type": "execute_result"
    }
   ],
   "source": [
    "import io.reactivex.*;\n",
    "\n",
    "Observable.create(s -> {\n",
    "    s.onNext(\"Hello world!\");\n",
    "    s.onComplete();\n",
    "}).subscribe(hello -> System.out.println(hello));"
   ]
  },
  {
   "cell_type": "markdown",
   "metadata": {},
   "source": [
    "- This is a completely synchronous example of `Observable.create()`. The I/O is blocking the asynchronicity of this `Observable`. The I/O operations should be done in a separate thread.\n",
    "- Here the asynchronous scheduling is actually making the whole 'Hello World' program slower.\n",
    "- The RxJava `Observable` is async vs sync agnostic so as to let it be incumbent upon the impementation to determine the source of concurrency and can be decided whether it will be useful.\n",
    "- There are also some applications where synchronous behaviour is better than asynchronous behaviour. For example - \n",
    " - In-memory data access is very fast and should not be bogged down by adding the scheduling cost to it. The data fetch from in memory can be done synchronously. If disk access then that can be done concurrently.\n",
    " - Another case is stream composition and transformation via operators like `map()`, `filter()` etc"
   ]
  },
  {
   "cell_type": "code",
   "execution_count": 16,
   "metadata": {},
   "outputs": [
    {
     "name": "stdout",
     "output_type": "stream",
     "text": [
      "Number 1\n",
      "Number 2\n",
      "Number 3\n"
     ]
    },
    {
     "data": {
      "text/plain": [
       "null"
      ]
     },
     "execution_count": 16,
     "metadata": {},
     "output_type": "execute_result"
    }
   ],
   "source": [
    "import io.reactivex.Observable;\n",
    "\n",
    "// If map was asynchronous, there would be separate threads for string concatenation and that would be wasteful and the behaviour would become very non-deterministic\n",
    "Observable<Integer> o = Observable.create(s -> {\n",
    "    s.onNext(1);\n",
    "    s.onNext(2);\n",
    "    s.onNext(3);\n",
    "});\n",
    "o.map(i -> \"Number \" + i)\n",
    "    .subscribe(s -> System.out.println(s));"
   ]
  },
  {
   "cell_type": "markdown",
   "metadata": {},
   "source": [
    "### Concurrency and Parellelism - \n",
    "- Parallelism is simultaneous execution of tasks on differenct CPUs or machines.\n",
    "- Concurrency is composition of interleaving of multiple tasks. Multiple thread execution on a single CPU is excuting concurrently but not parallely\n",
    "- Parallel execution is always concurrent. Parallelism is a specific form of concurrency. \n",
    "- The RxJava streams like `onNext()`, `onComplete()` etc are never concurrent but are always serialized and thread safe\n",
    "- The emission of events can happen on different threads but the emission must happen serially."
   ]
  },
  {
   "cell_type": "markdown",
   "metadata": {},
   "source": [
    "`// DO NOT DO THIS\n",
    "Observable.create(s -> {\n",
    "// Thread A\n",
    "new Thread(() -> {\n",
    "s.onNext(\"one\");\n",
    "s.onNext(\"two\");\n",
    "}).start();\n",
    "// Thread B\n",
    "new Thread(() -> {\n",
    "s.onNext(\"three\");\n",
    "s.onNext(\"four\");\n",
    "}).start();\n",
    "// ignoring need to emit s.onCompleted() due to race of threads\n",
    "});\n",
    "// DO NOT DO THIS`"
   ]
  },
  {
   "cell_type": "markdown",
   "metadata": {},
   "source": [
    "- `onNext()` is not allowed to be invoked concurrently because - \n",
    " - `onNext()` is supposed to be used by the programmer. If it is invoked concurrently then every invocation needs to handle the concurrent case\n",
    " - Some operations like `reduce()` and `scan()` are not possible concurrently\n",
    " - Performance overhead because all observers and operators have to be thread safe\n",
    " - Fine grained parallelism is undesirable and slower. It is much faster to execute serially on a single CPU to gain advantage of the CPU optimizations already in place."
   ]
  },
  {
   "cell_type": "markdown",
   "metadata": {},
   "source": [
    "### Lazy vs Eager - \n",
    "- The `Observer` type is lazy and does nothing until it is subscribed to as opposed to `Future` which is eager and starts executing as soon as it is created.\n",
    "- This also means that the observable instances can be reused"
   ]
  },
  {
   "cell_type": "markdown",
   "metadata": {},
   "source": [
    "## Duality - \n",
    "- `Observable` is the dual of `Iterable`. That means all iterable properties are there using observable just with reverse flow of data. It is push instead of pull.\n",
    "- So the data instead of being pulled out using `next()` is pushed by the producer using `onNext()`\n",
    "- This just means that the same programming model can be applied to both"
   ]
  },
  {
   "cell_type": "markdown",
   "metadata": {},
   "source": [
    "## Cardinality - \n",
    "- `Observable` supports asynchronously pushing multiple values."
   ]
  },
  {
   "cell_type": "markdown",
   "metadata": {},
   "source": [
    "## Reactive Extensions - \n",
    "### rx.Observable - \n",
    "- Represents a flowing sequence of values\n",
    "- It is a stream of events because the events appear over a wide time range\n",
    "- `Observable` is inherently push based and decides when it is going to push values to it's subscriber by itself\n",
    "- This is similar to the publish-subscribe pattern\n",
    "- `Observable<T>` can produce three types of events - \n",
    " - Values of type T\n",
    " - Completion event\n",
    " - Error event\n",
    "- The Subscriber structure is expressed as - `onNext * (onComplete | onError)?`\n",
    "\n",
    "### Subscribing to notifications from observables - \n",
    "- The `Observable` does not emit anything until it is subscribed to\n",
    "- Use `subscribe()` family of methods to subscribe to this observable\n",
    "- Events can be emitted from multiple threads but the callback will always be invoked on the same thread\n",
    "- The second argument is the callback invoked when an error is thrown and it is guaranteed that no further events will be produced\n",
    "- The third argument is the callback invoked when the stream is finally completed"
   ]
  },
  {
   "cell_type": "markdown",
   "metadata": {},
   "source": [
    "`tweets.subscribe( \n",
    "    (Tweet tweet) -> { System.out.println(tweet); }, \n",
    "    (Throwable t) -> { t.printStackTrace(); }, \n",
    "    () -> {this.noMore();} \n",
    ");`"
   ]
  },
  {
   "cell_type": "markdown",
   "metadata": {},
   "source": [
    "### Observer - \n",
    "- This is a container of all the three arguments of subscribe\n",
    "- This is the core abstraction of RxJava. Subscriber can be used for even greater control\n",
    "\n",
    "### Subscription and Subscriber - \n",
    "- `Subscription subscription = tweets.subscribe(System.out::println); subscription.unsubscribe();`\n",
    "- `Subscription` is the handle that lets the client control the subscription actions\n",
    "- The unsubscription can also be performed conditionally by putting a condition with the onNext() statement"
   ]
  },
  {
   "cell_type": "code",
   "execution_count": 4,
   "metadata": {},
   "outputs": [
    {
     "ename": "cannot find symbol",
     "evalue": "cannot find symbol",
     "output_type": "error",
     "traceback": [
      "\u001b[1;31mcannot find symbol\u001b[0;0m",
      "\u001b[1;31m  symbol:   class Subscription\u001b[0;0m",
      "\u001b[0;31m  location: class com.twosigma.beaker.javash.bkr833f2a81.BeakerWrapperClass1261714175Id97b5b55f5eb1405bbf38093db83bacc6\u001b[0;0m",
      "\u001b[0;31m Subscription subscription = o.subscribe(s \u001b[0;0m",
      "\u001b[0;31m ^           ^                               \u001b[0;0m"
     ]
    }
   ],
   "source": [
    "import io.reactivex.*;\n",
    "\n",
    "// If map was asynchronous, there would be separate threads for string concatenation and that would be wasteful and the behaviour would become very non-deterministic\n",
    "Observable<Integer> o = Observable.create(s -> {\n",
    "    s.onNext(1);\n",
    "    s.onNext(2);\n",
    "    s.onNext(3);\n",
    "});\n",
    "Subscription subscription = o.subscribe(s -> System.out.println(s));"
   ]
  },
  {
   "cell_type": "code",
   "execution_count": 8,
   "metadata": {},
   "outputs": [
    {
     "name": "stdout",
     "output_type": "stream",
     "text": [
      "Number 1\n",
      "Number 2\n",
      "Number 3\n"
     ]
    },
    {
     "data": {
      "text/plain": [
       "null"
      ]
     },
     "execution_count": 8,
     "metadata": {},
     "output_type": "execute_result"
    }
   ],
   "source": [
    "import io.reactivex.Observable;\n",
    "\n",
    "// If map was asynchronous, there would be separate threads for string concatenation and that would be wasteful and the behaviour would become very non-deterministic\n",
    "Observable<Integer> o = Observable.create(s -> {\n",
    "    s.onNext(1);\n",
    "    s.onNext(2);\n",
    "    s.onNext(3);\n",
    "});\n",
    "o.map(i -> \"Number \" + i)\n",
    "    .subscribe(s -> System.out.println(s));"
   ]
  },
  {
   "cell_type": "markdown",
   "metadata": {},
   "source": [
    "### Observable creation - \n",
    "- `Observable.just()` - Emits the same value for every subscription. Can take upto nine values for emmission\n",
    "- `Observable.from(values)` - Accepts iterators as well and can directly take a number of values to be emmitted\n",
    "- `Observable.range(from, n)` - Produces `n` integers from `from`\n",
    "- There are others as well but better to directly look up documentation for that.\n",
    "- `Observable.create()` - The most versatile and the underlying one beneath all the other factory methods\n",
    "- All this creation and execution is done on the main thread always. RxJava does not choose another thread for the process\n",
    "- The subscription handler inside `create()` is invoked separately for each of the `subscribe()` invocations so all the different subscribers see different invocations being made\n",
    "- If multiple subscribers need to share the same invocation then they must use `cache()`\n",
    "- `cache()` is an operator. An operator wraps existing observables enhancing them\n",
    "- cache basically stands at the subscription. When a subscriber comes in it hands over the subscription to the underlying observable but keeps a cache of the values being pushed. On any subsequent subscription the values are pushed directly from the cache\n",
    "\n",
    "## Infinite streams - \n",
    "- Infinite streams are enabled by the ability to produce and consume events on the fly"
   ]
  },
  {
   "cell_type": "code",
   "execution_count": 17,
   "metadata": {},
   "outputs": [
    {
     "data": {
      "text/plain": [
       "null"
      ]
     },
     "execution_count": 17,
     "metadata": {},
     "output_type": "execute_result"
    }
   ],
   "source": [
    "import io.reactivex.Observable;\n",
    "import java.util.*;\n",
    "import java.math.BigInteger;\n",
    "import static java.math.BigInteger.*;\n",
    "\n",
    "Observable<BigInteger> naturalNumbers = Observable.create(\n",
    "    subscriber -> {\n",
    "        Runnable r = () -> {\n",
    "        BigInteger i = BigInteger.ZERO;\n",
    "        while (!subscriber.isDisposed()) {\n",
    "            subscriber.onNext(i);\n",
    "            i = i.add(ONE);\n",
    "        }\n",
    "    };\n",
    "    new Thread(r).start();\n",
    "});"
   ]
  },
  {
   "cell_type": "markdown",
   "metadata": {},
   "source": [
    "- Infinite streams are complicated and full of pitfalls. Be careful\n",
    "- Explicit threads should not be used inside `create()` as it breaks the contract of serial execution of onNext()\n",
    "- To propogate errors down to all the subscribers wrap the code inside a `try-catch` and call `subscriber.onError(e)` explicitly\n",
    "### `timer` and `interval` - \n",
    "- timer basically emits for a given amount of time and then exits. It can act as an asynchronous sleep"
   ]
  },
  {
   "cell_type": "code",
   "execution_count": 3,
   "metadata": {},
   "outputs": [
    {
     "ename": "cannot find symbol",
     "evalue": "cannot find symbol",
     "output_type": "error",
     "traceback": [
      "\u001b[1;31mcannot find symbol\u001b[0;0m",
      "\u001b[1;31m  symbol:   variable TimeUnit\u001b[0;0m",
      "\u001b[0;31m  location: class com.twosigma.beaker.javash.bkrbea50be8.BeakerWrapperClass1261714175Id7ccbf061ab2543a4a5350dcc47eb4802\u001b[0;0m",
      "\u001b[0;31m .timer(1, TimeUnit.SECONDS)\u001b[0;0m",
      "\u001b[0;31m           ^       ^          \u001b[0;0m",
      "\u001b[0;31m\u001b[0;0m",
      "\u001b[0;31mcannot find symbol\u001b[0;0m",
      "\u001b[0;31m  symbol:   method log(java.lang.Long)\u001b[0;0m",
      "\u001b[0;31m  location: class com.twosigma.beaker.javash.bkrbea50be8.BeakerWrapperClass1261714175Id7ccbf061ab2543a4a5350dcc47eb4802\u001b[0;0m",
      "\u001b[0;31m .subscribe((Long zero) -> log(zero))\u001b[0;0m",
      "\u001b[0;31m                           ^  ^        \u001b[0;0m"
     ]
    }
   ],
   "source": [
    "import io.reactivex.Observable;\n",
    "import java.util.*;\n",
    "\n",
    "Observable\n",
    "    .timer(1, TimeUnit.SECONDS)\n",
    "    .subscribe((Long zero) -> log(zero));"
   ]
  },
  {
   "cell_type": "markdown",
   "metadata": {},
   "source": [
    "- `interval()` is to generate a sequence of long numbers starting with zero. The generation is delayed by a fixed value\n",
    "### Hot and Cold observable - \n",
    "- Cold observable is completely lazy and is only activated only when someone subscribes to it. It's just a static data structure and there is no caching involved\n",
    "- Hot observable is when the observable keeps on emitting events even if noone is listening to it. It's when we don't have any control over the source of data.\n",
    "- Cold observables always ensure that the subscriber is receiving the complete set of events while the hot observable has to depend on operators like `cache()` to achieve the same.\n",
    "- In order to implement the scenario of multiplexing a stream to multiple subscribers, we can either handle the subscription and unsubscription of observables manually by maintaining a list or through `Subject` or `ConnectableObservable`\n",
    "\n",
    "### Subject - \n",
    "- It extends `Observer` and implements `Observable`.\n",
    "- Basically it acts as a sink to the observables where they can publish their events to and a source for the observers that fetch their events by subscribing to a particular subject\n"
   ]
  },
  {
   "cell_type": "code",
   "execution_count": null,
   "metadata": {},
   "outputs": [],
   "source": [
    "class TwitterSubject {\n",
    "    private final PublishSubject<Status> subject = PublishSubject.create();\n",
    "    public TwitterSubject() {\n",
    "        TwitterStream twitterStream = new TwitterStreamFactory().getInstance();\n",
    "        twitterStream.addListener(new StatusListener() {\n",
    "            @Override\n",
    "            public void onStatus(Status status) {\n",
    "                subject.onNext(status);\n",
    "            }\n",
    "            @Override\n",
    "            public void onException(Exception ex) {\n",
    "                subject.onError(ex);\n",
    "            }\n",
    "            //other callbacks\n",
    "        });\n",
    "        twitterStream.sample();\n",
    "    }\n",
    "    public Observable<Status> observe() {\n",
    "        return subject;\n",
    "    }\n",
    "}"
   ]
  },
  {
   "cell_type": "markdown",
   "metadata": {},
   "source": [
    "- `PublishSubject` eagerly starts listening for events and pushes them to all the subscribers \n",
    "- `ConnectableObservable`is a way of coordinating multiple subscribers and using the same underlying subscription\n",
    "- It ensures the existance of at least one subscriber at all times\n",
    "- It shields the Observable from the subscribers. No matter how many subscribers subscribe there will only be a single underlying subscription\n",
    "### Single subscription with `publish.refCount()` - \n",
    "- It maintains a count of the subscribers available. \n",
    "- It only subscribes once when the count reaches one and then reuses the subscription after that."
   ]
  }
 ],
 "metadata": {
  "kernelspec": {
   "display_name": "Java",
   "language": "java",
   "name": "java"
  },
  "language_info": {
   "codemirror_mode": "text/x-java",
   "file_extension": ".java",
   "mimetype": "",
   "name": "Java",
   "nbconverter_exporter": "",
   "version": "1.8.0_144"
  },
  "toc": {
   "base_numbering": 1,
   "nav_menu": {},
   "number_sections": false,
   "sideBar": false,
   "skip_h1_title": false,
   "title_cell": "Table of Contents",
   "title_sidebar": "Contents",
   "toc_cell": false,
   "toc_position": {},
   "toc_section_display": false,
   "toc_window_display": false
  }
 },
 "nbformat": 4,
 "nbformat_minor": 2
}
