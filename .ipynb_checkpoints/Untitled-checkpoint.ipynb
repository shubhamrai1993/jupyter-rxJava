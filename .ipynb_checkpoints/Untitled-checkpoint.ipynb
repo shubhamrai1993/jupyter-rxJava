{
 "cells": [
  {
   "cell_type": "markdown",
   "metadata": {},
   "source": [
    "# RxJava\n",
    "## Intro - \n",
    "- RxJava is a specific implementation of reactive programming for Java and Android that is influenced by functional programming.\n",
    "- Favors functional composition, avoidance of global state and side-effects and using streams to program asynchronously and event based\n",
    "- **Reactive programming** is related to reacting to changes and can be done imperatively or functionally like callbacks\n",
    "- RxJava is not functional reactive programming\n",
    "- All programs ultimately end up being reactive when it hits harware\n",
    "- Recommended books [Java Concurrency in Practice](https://www.amazon.com/Java-Concurrency-Practice-Brian-Goetz/dp/0321349601), [Concurrent Programming](https://www.amazon.com/Concurrent-Programming-Java%C2%99-Principles-Pattern/dp/0201310090) and **Mechanical sympathy\n",
    "- Reactive programming is needed when - \n",
    " - Responding to user events\n",
    " - Responding to IO events\n",
    " - Handling events or data coming from a producer one does not have control over\n",
    "## How it works - \n",
    "### Push vs Pull - \n",
    "- Being reactive means supporting push so that `Observable` and `Observer` support the events being pushed at it\n",
    "- The `Observable` and `Observer` are connected via subscription\n",
    "- The `Observable` represents a stream of data and can be subscribed to by the `Observer`    \n",
    "- Once `Observer` subscribes, three types of events can be pushed to it\n",
    " - Data via `onNext()` function\n",
    " - Error view `onError`\n",
    " - Stream completion via `onCompleted()`    \n"
   ]
  },
  {
   "cell_type": "markdown",
   "metadata": {},
   "source": [
    "`interface Observer<T> { \n",
    "    void onNext(T t);\n",
    "    void onError(Throwable t); \n",
    "    void onCompleted();\n",
    "}`"
   ]
  },
  {
   "cell_type": "markdown",
   "metadata": {},
   "source": [
    "- The `onNext()` method can be called as many time as required\n",
    "- `onError()` and `onCompleted()` are called on termination\n",
    "- The `Observable` stream is finished with a terminal call and no further events can be sent over it"
   ]
  },
  {
   "cell_type": "markdown",
   "metadata": {},
   "source": []
  },
  {
   "cell_type": "markdown",
   "metadata": {},
   "source": [
    "- To permit interactive pull there is another signature  "
   ]
  },
  {
   "cell_type": "markdown",
   "metadata": {},
   "source": [
    "`interface Producer {\n",
    "    void request(long n);\n",
    "}`"
   ]
  },
  {
   "cell_type": "markdown",
   "metadata": {},
   "source": [
    "- This is used by a more advanced `Observer` called `Subscribe`  "
   ]
  },
  {
   "cell_type": "markdown",
   "metadata": {},
   "source": [
    "`interface Subscriber<T> implements Observer<T>, Subscription { \n",
    "    void onNext(T t);\n",
    "    void onError(Throwable t);\n",
    "    void onCompleted();\n",
    "    void unsubscribe();\n",
    "    void setProducer(Producer p);\n",
    "}`"
   ]
  },
  {
   "cell_type": "markdown",
   "metadata": {},
   "source": [
    "- `unsubscribe()` is to allow a subscriber to unsubscribe when required\n",
    "- `setProducer` forms a bidirectional communication channel between producer and the consumer\n",
    "### Async vs Sync - \n",
    "- RxJava never adds concurrency unless asked to\n",
    "- A synchronous `Observable` would be subscribed to, emit data on the subscriber thread and completes\n",
    "- "
   ]
  },
  {
   "cell_type": "code",
   "execution_count": 10,
   "metadata": {},
   "outputs": [],
   "source": [
    "%classpath add jar ./rxjava-2.2.0-SNAPSHOT.jar\n",
    "%classpath add jar ./reactive-streams-1.0.2.jar"
   ]
  },
  {
   "cell_type": "code",
   "execution_count": 7,
   "metadata": {},
   "outputs": [
    {
     "name": "stdout",
     "output_type": "stream",
     "text": [
      "The Java working folder is :\n",
      "/Users/shubham_rai/Workspace/jupyter\n",
      "RxJava snapshot jar exists in this folder\n"
     ]
    },
    {
     "data": {
      "text/plain": [
       "null"
      ]
     },
     "execution_count": 7,
     "metadata": {},
     "output_type": "execute_result"
    }
   ],
   "source": [
    "System.out.println(\"The Java working folder is :\");\n",
    "System.out.println(java.nio.file.Paths.get(\".\").toAbsolutePath().normalize().toString());\n",
    "System.out.println(\"RxJava snapshot jar exists in this folder\");"
   ]
  },
  {
   "cell_type": "code",
   "execution_count": 9,
   "metadata": {},
   "outputs": [
    {
     "name": "stdout",
     "output_type": "stream",
     "text": [
      "3\n",
      "two\n",
      "three\n"
     ]
    },
    {
     "data": {
      "text/plain": [
       "null"
      ]
     },
     "execution_count": 9,
     "metadata": {},
     "output_type": "execute_result"
    }
   ],
   "source": [
    "import io.reactivex.Observable;\n",
    "\n",
    "import java.util.*;\n",
    "\n",
    "String[] items = new String[] { \"one\", \"two\", \"three\" };\n",
    "System.out.println(Observable.fromArray(items).count().blockingGet());\n",
    "System.out.println(Observable.fromArray(items).skip(1).take(1).blockingSingle());\n",
    "System.out.println(Observable.fromArray(items).takeLast(1).blockingSingle());"
   ]
  },
  {
   "cell_type": "code",
   "execution_count": null,
   "metadata": {},
   "outputs": [],
   "source": []
  },
  {
   "cell_type": "code",
   "execution_count": null,
   "metadata": {},
   "outputs": [],
   "source": []
  },
  {
   "cell_type": "code",
   "execution_count": null,
   "metadata": {},
   "outputs": [],
   "source": []
  }
 ],
 "metadata": {
  "kernelspec": {
   "display_name": "Java",
   "language": "java",
   "name": "java"
  },
  "language_info": {
   "codemirror_mode": "text/x-java",
   "file_extension": ".java",
   "mimetype": "",
   "name": "Java",
   "nbconverter_exporter": "",
   "version": "1.8.0_144"
  },
  "toc": {
   "base_numbering": 1,
   "nav_menu": {},
   "number_sections": false,
   "sideBar": false,
   "skip_h1_title": false,
   "title_cell": "Table of Contents",
   "title_sidebar": "Contents",
   "toc_cell": false,
   "toc_position": {},
   "toc_section_display": false,
   "toc_window_display": false
  }
 },
 "nbformat": 4,
 "nbformat_minor": 2
}
